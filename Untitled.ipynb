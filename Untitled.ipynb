{
 "cells": [
  {
   "cell_type": "code",
   "execution_count": 9,
   "metadata": {},
   "outputs": [],
   "source": [
    "import warnings\n",
    "warnings.filterwarnings('ignore')\n",
    "import sys\n",
    "sys.path.append(\"../\")\n",
    "from tqdm import tqdm\n",
    "import nltk\n",
    "import pickle\n",
    "import json\n",
    "\n",
    "import numpy as np\n",
    "import argparse\n",
    "import torch\n",
    "import torch.nn as nn\n",
    "import torch.nn.functional as F\n",
    "import torch.optim as optim\n",
    "import torch.utils.data as data\n",
    "from torch.autograd import Variable\n",
    "import time\n",
    "from model.seq2seq import Seq2Seq\n",
    "from func.utils import Word2Id,BatchMaker,make_vec,make_vec_c,to_var\n",
    "import nltk\n",
    "\n",
    "path=\"data/test_data.json\"\n",
    "\n",
    "with open(path,\"r\")as f:\n",
    "    t=json.load(f)\n",
    "    questions=t[\"questions\"]\n",
    "    sentences=t[\"sentences\"]\n",
    "    answers=t[\"answers\"]\n",
    "    question_interros=t[\"question_interros\"]\n",
    "    neg_interros=t[\"neg_interros\"]\n",
    "    \n",
    "\n",
    "with open(\"data/word2id.json\",\"r\")as f:\n",
    "    t=json.load(f)#numpy(vocab_size*embed_size)\n",
    "    word2id=t[\"word2id\"]\n",
    "    id2vec=t[\"id2vec\"]\n",
    "    \n",
    "id2word={i:w for w,i in word2id.items()}"
   ]
  },
  {
   "cell_type": "code",
   "execution_count": 47,
   "metadata": {},
   "outputs": [],
   "source": [
    "import matplotlib.pyplot as plt\n",
    "import collections\n",
    "\n",
    "src_length=collections.defaultdict(int)\n",
    "\n",
    "for i in range(len(sentences)):\n",
    "    src_length[len(sentences[i].split())]+=1\n",
    "    "
   ]
  },
  {
   "cell_type": "code",
   "execution_count": 48,
   "metadata": {},
   "outputs": [
    {
     "data": {
      "text/plain": [
       "<BarContainer object of 130 artists>"
      ]
     },
     "execution_count": 48,
     "metadata": {},
     "output_type": "execute_result"
    },
    {
     "data": {
      "image/png": "[encoded data removed]",
      "text/plain": [
       "<Figure size 432x288 with 1 Axes>"
      ]
     },
     "metadata": {},
     "output_type": "display_data"
    }
   ],
   "source": [
    "key=list(src_length.keys())\n",
    "value=list(src_length.values())\n",
    "\n",
    "plt.bar(key,value)"
   ]
  },
  {
   "cell_type": "code",
   "execution_count": 51,
   "metadata": {},
   "outputs": [
    {
     "name": "stdout",
     "output_type": "stream",
     "text": [
      "8992\n",
      "14.015384615384615\n",
      "0.0\n"
     ]
    }
   ],
   "source": [
    "items=list(src_length.items())\n",
    "print(np.sum([v if k<=60 else 0 for k,v in items]))\n",
    "print(np.average([k if k<=60 else 0 for k,v in items]))\n",
    "print(np.median([k if k<=60 else 0 for k,v in items]))"
   ]
  },
  {
   "cell_type": "code",
   "execution_count": 25,
   "metadata": {},
   "outputs": [
    {
     "name": "stdout",
     "output_type": "stream",
     "text": [
      "?\n"
     ]
    }
   ],
   "source": [
    "print(id2word[12])"
   ]
  },
  {
   "cell_type": "code",
   "execution_count": 27,
   "metadata": {},
   "outputs": [
    {
     "data": {
      "text/plain": [
       "False"
      ]
     },
     "execution_count": 27,
     "metadata": {},
     "output_type": "execute_result"
    }
   ],
   "source": [
    "import os\n",
    "os.path.exists(\"log.txt\")"
   ]
  },
  {
   "cell_type": "code",
   "execution_count": null,
   "metadata": {},
   "outputs": [],
   "source": []
  }
 ],
 "metadata": {
  "kernelspec": {
   "display_name": "Python 3",
   "language": "python",
   "name": "python3"
  },
  "language_info": {
   "codemirror_mode": {
    "name": "ipython",
    "version": 3
   },
   "file_extension": ".py",
   "mimetype": "text/x-python",
   "name": "python",
   "nbconvert_exporter": "python",
   "pygments_lexer": "ipython3",
   "version": "3.6.5"
  }
 },
 "nbformat": 4,
 "nbformat_minor": 2
}
