{
 "cells": [
  {
   "cell_type": "code",
<<<<<<< HEAD
   "execution_count": 9,
=======
   "execution_count": null,
>>>>>>> origin/master
   "metadata": {},
   "outputs": [],
   "source": [
    "import warnings\n",
<<<<<<< HEAD
    "warnings.filterwarnings('ignore')\n",
    "import sys\n",
    "sys.path.append(\"../\")\n",
    "from tqdm import tqdm\n",
    "import nltk\n",
    "import pickle\n",
    "import json\n",
    "\n",
    "import numpy as np\n",
    "import argparse\n",
    "import torch\n",
    "import torch.nn as nn\n",
    "import torch.nn.functional as F\n",
    "import torch.optim as optim\n",
    "import torch.utils.data as data\n",
    "from torch.autograd import Variable\n",
    "import time\n",
    "from model.seq2seq import Seq2Seq\n",
    "from func.utils import Word2Id,BatchMaker,make_vec,make_vec_c,to_var\n",
    "import nltk\n",
    "\n",
    "path=\"data/test_data.json\"\n",
    "\n",
    "with open(path,\"r\")as f:\n",
    "    t=json.load(f)\n",
    "    questions=t[\"questions\"]\n",
    "    sentences=t[\"sentences\"]\n",
    "    answers=t[\"answers\"]\n",
    "    question_interros=t[\"question_interros\"]\n",
    "    neg_interros=t[\"neg_interros\"]\n",
    "    \n",
    "\n",
    "with open(\"data/word2id.json\",\"r\")as f:\n",
    "    t=json.load(f)#numpy(vocab_size*embed_size)\n",
    "    word2id=t[\"word2id\"]\n",
    "    id2vec=t[\"id2vec\"]\n",
    "    \n",
    "id2word={i:w for w,i in word2id.items()}"
   ]
  },
  {
   "cell_type": "code",
   "execution_count": 47,
   "metadata": {},
   "outputs": [],
   "source": [
    "import matplotlib.pyplot as plt\n",
    "import collections\n",
    "\n",
    "src_length=collections.defaultdict(int)\n",
    "\n",
    "for i in range(len(sentences)):\n",
    "    src_length[len(sentences[i].split())]+=1\n",
    "    "
=======
    "warnings.filterwarnings(\"ignore\")\n",
    "import nltk\n",
    "from nltk.tokenize import word_tokenize,sent_tokenize\n",
    "from nltk.translate.bleu_score import sentence_bleu\n",
    "from tqdm import tqdm\n",
    "from collections import defaultdict\n",
    "\n",
    "\n",
    "def question_find():\n",
    "    question_list=[\"what where how \"]\n",
    "\n",
    "#tgt_path=\"tgt_test.txt\"\n",
    "#pred_path=\"pred_test.txt\"\n",
    "src_path=\"../data/processed/src-train.txt\"\n",
    "tgt_path=\"../data/processed/tgt-train.txt\"\n",
    "\n",
    "src=[]\n",
    "target=[]\n",
    "src2=[]\n",
    "\n",
    "with open(src_path)as f:\n",
    "    for line in f:\n",
    "        src.append(line[:-1])\n",
    "\n",
    "with open(tgt_path)as f:\n",
    "    for line in f:\n",
    "        target.append(line[:-1])\n",
    "\n",
    "for s,t in zip(src,target):\n",
    "    \n",
    "\n",
    "\n"
>>>>>>> origin/master
   ]
  },
  {
   "cell_type": "code",
<<<<<<< HEAD
   "execution_count": 48,
   "metadata": {},
   "outputs": [
    {
     "data": {
      "text/plain": [
       "<BarContainer object of 130 artists>"
      ]
     },
     "execution_count": 48,
     "metadata": {},
     "output_type": "execute_result"
    },
    {
     "data": {
      "image/png": "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\n",
      "text/plain": [
       "<Figure size 432x288 with 1 Axes>"
      ]
     },
     "metadata": {},
     "output_type": "display_data"
    }
   ],
   "source": [
    "key=list(src_length.keys())\n",
    "value=list(src_length.values())\n",
    "\n",
    "plt.bar(key,value)"
=======
   "execution_count": null,
   "metadata": {},
   "outputs": [],
   "source": [
    "%%bash\n",
    "head -c 1000 data/processed/sr"
>>>>>>> origin/master
   ]
  },
  {
   "cell_type": "code",
<<<<<<< HEAD
   "execution_count": 51,
=======
   "execution_count": 18,
>>>>>>> origin/master
   "metadata": {},
   "outputs": [
    {
     "name": "stdout",
     "output_type": "stream",
     "text": [
<<<<<<< HEAD
      "8992\n",
      "14.015384615384615\n",
      "0.0\n"
=======
      "('what', 30408)\n",
      "('how', 6491)\n",
      "('who', 6463)\n",
      "('when', 4587)\n",
      "('in', 3480)\n",
      "('which', 3262)\n",
      "('where', 2680)\n",
      "('the', 1842)\n",
      "('why', 1016)\n",
      "('along', 537)\n",
      "('on', 445)\n",
      "('during', 375)\n",
      "('at', 273)\n",
      "('a', 252)\n",
      "('to', 241)\n",
      "('for', 232)\n",
      "('from', 230)\n",
      "('according', 223)\n",
      "('after', 203)\n",
      "('by', 202)\n",
      "('is', 175)\n",
      "('whose', 168)\n",
      "('if', 142)\n",
      "('as', 138)\n",
      "('with', 137)\n",
      "('besides', 137)\n",
      "('are', 133)\n",
      "('did', 133)\n",
      "('name', 129)\n",
      "('do', 109)\n",
      "('does', 108)\n",
      "('of', 102)\n",
      "('under', 94)\n",
      "('about', 91)\n",
      "('was', 89)\n",
      "('other', 79)\n",
      "('since', 63)\n",
      "('an', 59)\n",
      "('approximately', 58)\n",
      "('some', 58)\n",
      "('between', 55)\n",
      "('before', 54)\n",
      "('aside', 53)\n",
      "('most', 53)\n",
      "('were', 48)\n",
      "('around', 48)\n",
      "('there', 45)\n",
      "('prior', 44)\n",
      "('until', 43)\n",
      "('can', 42)\n",
      "('what is', 5991)\n",
      "('what was', 3679)\n",
      "('how many', 3348)\n",
      "('when did', 2254)\n",
      "('in what', 2062)\n",
      "('what did', 1894)\n",
      "('when was', 1599)\n",
      "('who was', 1416)\n",
      "('what are', 1159)\n",
      "('what does', 1158)\n",
      "('what type', 1129)\n",
      "('how much', 745)\n",
      "('what year', 742)\n",
      "('where did', 665)\n",
      "('what do', 617)\n",
      "('where is', 573)\n",
      "('along with', 529)\n",
      "('who did', 486)\n",
      "('where was', 483)\n",
      "('who is', 460)\n",
      "('how long', 448)\n",
      "('what kind', 439)\n",
      "('what were', 434)\n",
      "('how did', 422)\n",
      "('what percentage', 421)\n",
      "('why did', 345)\n",
      "('on what', 334)\n",
      "('in which', 322)\n",
      "('what can', 279)\n",
      "('where does', 244)\n",
      "what is a pub licensed to sell ?\n",
      "what is the term ` pub ' short for ?\n",
      "who said that pubs are the heart of england ?\n",
      "how far back does the history of pubs go back ?\n",
      "what is a pub tied to in the 19th century ?\n",
      "what roman businesses were analogous to modern day pubs ?\n",
      "in what century did the tied house system develop ?\n",
      "why were the windows of town pubs made of smoked or frosted glass traditionally ?\n",
      "what fares do most pubs offer ?\n",
      "what are traditional pub windows made out of ?\n",
      "what are the windows of 1990s and later pubs often made of ?\n",
      "aside from beverages , what types of food do pubs typically offer ?\n",
      "what is the owner , tenant or manager of a pub known as ?\n",
      "what term came into use in victorian times to designate the pub landlord ?\n",
      "name one way regulars choose their pubs ?\n",
      "what is a proper term for the licensee of the pub ?\n",
      "what was the pub landlord often called in victorian times ?\n",
      "what are pubs called by those who regularly visit there ?\n",
      "teams for what sport can be found congregating at pubs ?\n",
      "what gaming tables can often be found in pubs ?\n",
      "what was the off-sales counter or attached shop for the sales of beers , wines and spirits for home consumption often referred to as ?\n",
      "in what decade did pubs tend to cease selling alcohol for off-premises drinking ?\n",
      "what was the name of the counter where pubs traditionally sold alcohol to drink at home ?\n",
      "along with high street chain stores and off-licenses , what stores undercut pub alcohol sales in the 1970s ?\n",
      "when did the inhabitants of the british isles begin drinking ale ?\n",
      "with the roman road network , what were the first inns called ?\n",
      "how did the alewife let people know that her brew was ready ?\n",
      "what did king edgar decree in 965 ?\n",
      "during what historical epoch did britons begin drinking ale ?\n",
      "in what century did the romans arrive in britain ?\n",
      "what was the latin term for the roman inns ?\n",
      "in what century did the romans leave britain ?\n",
      "what color bush did an anglo-saxon woman raise to indicate that her ale was done brewing ?\n",
      "in the early middle ages , where could a traveler obtain overnight accommodations ?\n",
      "when were the hostellers of london were granted guild status ?\n",
      "what name was taken by the hostellers in 1514 ?\n",
      "when did the hostellers of london become a guild ?\n",
      "in what year did the hostellers of london change their name to the worshipful company of innholders ?\n",
      "where did travelers early in the middle ages often find lodgings ?\n",
      "what religious activity was responsible for the growing demand for hostelries ?\n",
      "where is an inn typically located ?\n",
      "in addition to providing for the needs of travelers what was another typical use for an inn ?\n",
      "how old are some of the inns in europe ?\n",
      "aside from lodging , what amenities are often offered at inns ?\n",
      "what road is an inn often located near ?\n",
      "how many thousand years ago did the romans build their road system ?\n",
      "about how old are the oldest inns in europe ?\n",
      "what role did inns serve other than housing travelers ?\n",
      "what amenity does an inn offer that pubs , alehouses and taverns usually do not ?\n",
      "in what nation 's pubs is food often served ?\n",
      "along with southwark and the tabard , what is a notable london inn ?\n",
      "in what country is `` the welcome inn '' frequently used as a name for pubs ?\n",
      "aside from human beings , what creature 's needs were traditionally seen to at inns ?\n",
      "what is the main service of an inn , now also attainable in motels , hotels and lodges ?\n",
      "what is the main provision that pubs offer ?\n",
      "what are customers seeking when they visit restaurants or taverns ?\n",
      "what is a noted hotel brand throughout north america ?\n",
      "in the united states , what are operators of lodgings sometimes called ?\n",
      "along with the inns of chancery , in what inns did british lawyers historically conduct business ?\n",
      "in what city are the inns of chancery located ?\n",
      "outside england , what other country does the legal system founded around the inns of court operate in ?\n",
      "what was the one ingredient of traditional english ale ?\n",
      "what country pioneered the introduction of hops for beer production ?\n",
      "in what century was the process of using hops to produce beer introduced to england ?\n",
      "in what century did the first independent breweries appear in england ?\n",
      "what businesses were the dominant brewers of beer in england by the close of the 17th century ?\n",
      "after what political upheaval was gin introduced to england ?\n",
      "what people introduced gin to england ?\n",
      "in what year did the glorious revolution occur ?\n",
      "how much more gin than beer was made in england in 1740 ?\n",
      "in 1740 , what fraction of london drinking establishments were gin shops ?\n",
      "what artist created the engraving beer street and gin lane ?\n",
      "what law imposed a high tax on gin shops and resulted in riots ?\n",
      "what law placed gin shops under the control of local magistrates ?\n",
      "in what century did gin houses proliferate throughout britain ?\n",
      "what book by dickens described activities in drinking establishments ?\n",
      "over what two-year period was sketches by boz written ?\n",
      "what was another name for gin houses early in the 19th century ?\n",
      "in what british city did gin houses first appear ?\n",
      "what law allowed the existence of beer houses ?\n",
      "in what way did small beer differ from regular beer ?\n",
      "what alcohol was regarded as evil when compared to beer ?\n",
      "what was the intention behind the passage of the beer act of 1830 ?\n",
      "what is the approximate modern value of two guineas in 1830 ?\n",
      "what did the beer act allow a householder to sell from his home ?\n",
      "on what day were beer houses closed ?\n",
      "along with barrels , what was beer typically dispensed from ?\n",
      "what was forbidden from being sold in beer houses ?\n",
      "how many beer houses opened their doors in the inaugural year of the beer act ?\n",
      "how many beer houses existed throughout britain eight years after the passage of the beer act ?\n",
      "in what year were additional licensing laws introduced for beer houses ?\n",
      "what establishments did beer houses become after buying an additional license ?\n",
      "by the end of what century were most beer houses closed ?\n",
      "where are purpose-built pubs typically located ?\n",
      "what modern brewers often first began as beer houses ?\n",
      "along with the royal oak and the crown , what is a traditional name for a pub ?\n",
      "what is an example of a name for a beer house ?\n",
      "in addition to a license to sell spirits , what did tavern owners require a license to sell ?\n",
      "in what century did public drinking regulations first exist in england ?\n",
      "what party received income from the sale of public drinking house licenses ?\n",
      "in what century were the operating hours of drinking establishments first limited ?\n"
>>>>>>> origin/master
     ]
    }
   ],
   "source": [
<<<<<<< HEAD
    "items=list(src_length.items())\n",
    "print(np.sum([v if k<=60 else 0 for k,v in items]))\n",
    "print(np.average([k if k<=60 else 0 for k,v in items]))\n",
    "print(np.median([k if k<=60 else 0 for k,v in items]))"
=======
    "import collections\n",
    "\n",
    "mydict=collections.Counter()\n",
    "mydict2=collections.Counter()\n",
    "i=0\n",
    "for t in target:\n",
    "    t=t.split()\n",
    "    mydict[\" \".join(t[0:1])]+=1\n",
    "    mydict2[\" \".join(t[0:2])]+=1\n",
    "    \n",
    "print(*mydict.most_common(50),sep=\"\\n\")\n",
    "print(*mydict2.most_common(30),sep=\"\\n\")\n",
    "\n",
    "for i,t in enumerate(target):\n",
    "    print(t)\n",
    "    if i==100:\n",
    "        break\n"
>>>>>>> origin/master
   ]
  },
  {
   "cell_type": "code",
<<<<<<< HEAD
   "execution_count": 25,
=======
   "execution_count": 22,
>>>>>>> origin/master
   "metadata": {},
   "outputs": [
    {
     "name": "stdout",
     "output_type": "stream",
     "text": [
<<<<<<< HEAD
      "?\n"
=======
      "Counter({1: 1, 2: 1, 3: 1, 4: 1})\n"
>>>>>>> origin/master
     ]
    }
   ],
   "source": [
<<<<<<< HEAD
    "print(id2word[12])"
   ]
  },
  {
   "cell_type": "code",
   "execution_count": 27,
   "metadata": {},
   "outputs": [
    {
     "data": {
      "text/plain": [
       "False"
      ]
     },
     "execution_count": 27,
     "metadata": {},
     "output_type": "execute_result"
    }
   ],
   "source": [
    "import os\n",
    "os.path.exists(\"log.txt\")"
=======
    "import collections\n",
    "x=[1,2,3,4,4]\n",
    "y=[1,2,3,5,4]\n",
    "a=collections.Counter(x)\n",
    "b=collections.Counter(y)\n",
    "c=a&b\n",
    "print(c)"
>>>>>>> origin/master
   ]
  },
  {
   "cell_type": "code",
   "execution_count": null,
   "metadata": {},
   "outputs": [],
   "source": []
  }
 ],
 "metadata": {
  "kernelspec": {
   "display_name": "Python 3",
   "language": "python",
   "name": "python3"
  },
  "language_info": {
   "codemirror_mode": {
    "name": "ipython",
    "version": 3
   },
   "file_extension": ".py",
   "mimetype": "text/x-python",
   "name": "python",
   "nbconvert_exporter": "python",
   "pygments_lexer": "ipython3",
   "version": "3.6.5"
  }
 },
 "nbformat": 4,
 "nbformat_minor": 2
}
